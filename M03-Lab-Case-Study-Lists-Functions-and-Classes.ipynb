{
 "cells": [
  {
   "cell_type": "markdown",
   "id": "0739cd90",
   "metadata": {},
   "source": [
    "SDEV220-Software Development - Python\n",
    "M03 Lab - Case Study: Lists, Functions, and Classes"
   ]
  },
  {
   "cell_type": "code",
   "execution_count": null,
   "id": "bcb13da4",
   "metadata": {},
   "outputs": [],
   "source": [
    "# SDEV220-Software Development - Python\n",
    "\n",
    "# Name : M03 Lab - Case Study: Lists, Functions, and Classes\n",
    "# Author : M Mekoya \n",
    "# Date : 11-11-2023 \n",
    "# Version: 1 \n",
    "# Purpose: designing and utilizing classes\n",
    "# "
   ]
  },
  {
   "cell_type": "markdown",
   "id": "aa0734e0",
   "metadata": {},
   "source": [
    "Instructions\n",
    "Complete the following steps:\n",
    "Write a Python app that has the following classes:\n",
    "A super class called Vehicle, which contains an attribute for vehicle type, such as car, truck, plane, boat, or a broomstick.\n",
    "A class called Automobile which will inherit the attributes from Vehicle and also contain the following attributes:\n",
    "year\n",
    "make\n",
    "model\n",
    "doors (2 or 4)\n",
    "roof (solid or sun roof).\n",
    "Write an app that will accept user input for a car. The app will store \"car\" into the vehicle type in your Vehicle super class. \n",
    "The app will then ask the user for the year, make, model, doors, and type of roof and store thdata in the attributes above.\n",
    "The app will then output the data in an easy-to-read and understandable format, such as this:\n",
    "  Vehicle type: car\n",
    "  Year: 2022\n",
    "  Make: Toyota\n",
    "  Model: Corolla\n",
    "  Number of doors: 4\n",
    "  Type of roof: sun roof"
   ]
  },
  {
   "cell_type": "code",
   "execution_count": 7,
   "id": "855ce4d0",
   "metadata": {},
   "outputs": [
    {
     "name": "stdout",
     "output_type": "stream",
     "text": [
      "Please enter Vehicle year : 2000\n",
      "Please enter Vehicle make : Chevy\n",
      "Please enter Vehicle mode : Malibu\n",
      "Please enter Vehicle doors 2 or 4 : 4\n",
      "Please enter Vehicle roof sunroof or solid : solid\n",
      "Display Car Information\n",
      "Vehicle Type : car\n",
      "Year         : 2000\n",
      "Make         : Chevy\n",
      "Model        : Malibu\n",
      "Doors        : 4\n",
      "Roof         : solid\n"
     ]
    }
   ],
   "source": [
    "# Supper Class\n",
    "class Vehicle :\n",
    "    def __init__(self ) :\n",
    "        self.vehicleType = \"\"\n",
    "    def getVehicleType (self, vehicleType):\n",
    "        self.vehicleType = vehicleType\n",
    "        \n",
    "# Drived Class        \n",
    "class AutoMobile (Vehicle) :\n",
    "    def __init__ (self):\n",
    "        super().__init__()\n",
    "        \n",
    "        self.year = 1999\n",
    "        self.make = \"\"\n",
    "        self.model = \"\"\n",
    "        self.doors = 4\n",
    "        self.roof = \"\"\n",
    "    def getAttributes (self, year, make, model, doors, roof):\n",
    "        self.year = year\n",
    "        self.make = make\n",
    "        self.model = model\n",
    "        self.doors = doors\n",
    "        self.roof = roof\n",
    "        \n",
    "    def displayAttributes (self):\n",
    "        print (\"Vehicle Type : \" + self.vehicleType)\n",
    "        print (\"Year         : \" + self.year)\n",
    "        print (\"Make         : \" + self.make)\n",
    "        print (\"Model        : \" + self.model)\n",
    "        print (\"Doors        : \" + self.doors)\n",
    "        print (\"Roof         : \" + self.roof)\n",
    "\n",
    "def main () :\n",
    "    car = AutoMobile ()\n",
    "    vehicleType = \"car\"\n",
    "    year = input (\"Please enter Vehicle year : \")\n",
    "    make = input (\"Please enter Vehicle make : \")\n",
    "    model = input (\"Please enter Vehicle mode : \")\n",
    "    doors = input (\"Please enter Vehicle doors 2 or 4 : \")\n",
    "    roof = input (\"Please enter Vehicle roof sunroof or solid : \")\n",
    "    \n",
    "    car.getVehicleType(vehicleType)\n",
    "    \n",
    "    car.getAttributes (year, make, model, doors, roof)\n",
    "    \n",
    "    print (\"Display Car Information\")\n",
    "    car.displayAttributes()\n",
    "    \n",
    "\n",
    "main ()\n",
    "    \n",
    "        \n"
   ]
  },
  {
   "cell_type": "code",
   "execution_count": null,
   "id": "7d89a9f7",
   "metadata": {},
   "outputs": [],
   "source": []
  },
  {
   "cell_type": "code",
   "execution_count": null,
   "id": "5236c9d2",
   "metadata": {},
   "outputs": [],
   "source": []
  },
  {
   "cell_type": "code",
   "execution_count": null,
   "id": "44f32274",
   "metadata": {},
   "outputs": [],
   "source": []
  },
  {
   "cell_type": "code",
   "execution_count": null,
   "id": "a2720f93",
   "metadata": {},
   "outputs": [],
   "source": []
  },
  {
   "cell_type": "code",
   "execution_count": null,
   "id": "50470632",
   "metadata": {},
   "outputs": [],
   "source": []
  },
  {
   "cell_type": "code",
   "execution_count": null,
   "id": "dba2d942",
   "metadata": {},
   "outputs": [],
   "source": []
  }
 ],
 "metadata": {
  "kernelspec": {
   "display_name": "Python 3 (ipykernel)",
   "language": "python",
   "name": "python3"
  },
  "language_info": {
   "codemirror_mode": {
    "name": "ipython",
    "version": 3
   },
   "file_extension": ".py",
   "mimetype": "text/x-python",
   "name": "python",
   "nbconvert_exporter": "python",
   "pygments_lexer": "ipython3",
   "version": "3.9.12"
  }
 },
 "nbformat": 4,
 "nbformat_minor": 5
}
