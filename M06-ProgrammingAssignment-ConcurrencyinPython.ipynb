{
 "cells": [
  {
   "cell_type": "code",
   "execution_count": null,
   "id": "cbd0b1f1",
   "metadata": {},
   "outputs": [],
   "source": [
    "# SDEV220-Software Development - Python\n",
    "# Name : M04 Programming Assignment - Modules and Databases\n",
    "# Author : M Mekoya \n",
    "# Date : 12-10-2023 \n",
    "# Version: 1 \n",
    "# Purpose: The purpose of this assignment is to practice and implement learning from Chapter 13 and Chapter 15\n",
    "# "
   ]
  },
  {
   "cell_type": "markdown",
   "id": "3220bac2",
   "metadata": {},
   "source": [
    "In your textbook, navigate to the end of Chapters 13 and 15 to the section titled \"Things to Do\"\n",
    "Complete the following sections in your Jupyter Notebook:\n",
    "13.1\n",
    "13.2\n",
    "13.3\n",
    "15.1"
   ]
  },
  {
   "cell_type": "markdown",
   "id": "594ad674",
   "metadata": {},
   "source": [
    "13.1 Write the current date as a string to the text file today.txt."
   ]
  },
  {
   "cell_type": "code",
   "execution_count": 4,
   "id": "da326cfb",
   "metadata": {},
   "outputs": [],
   "source": [
    "import datetime\n",
    "today = datetime.date.today ()\n",
    "file_ptr = open('today.txt', 'w')\n",
    "file_ptr.write (str(today))\n",
    "file_ptr.close()\n"
   ]
  },
  {
   "cell_type": "markdown",
   "id": "73e2c41f",
   "metadata": {},
   "source": [
    "13.2 Read the text file today.txt into the string today_string."
   ]
  },
  {
   "cell_type": "code",
   "execution_count": 5,
   "id": "8e2389ec",
   "metadata": {},
   "outputs": [],
   "source": [
    "file_ptr = open('today.txt', 'r')\n",
    "today_string = file_ptr.read()\n",
    "file_ptr.close()"
   ]
  },
  {
   "cell_type": "markdown",
   "id": "4deb3e70",
   "metadata": {},
   "source": [
    "13.3 Parse the date from today_string."
   ]
  },
  {
   "cell_type": "code",
   "execution_count": 6,
   "id": "975ce843",
   "metadata": {},
   "outputs": [
    {
     "name": "stdout",
     "output_type": "stream",
     "text": [
      "Today is 2023-12-10\n"
     ]
    }
   ],
   "source": [
    "today = datetime.datetime.strptime(today_date, '%Y-%m-%d').date()\n",
    "print('Today is', today)"
   ]
  },
  {
   "cell_type": "markdown",
   "id": "304a7d55",
   "metadata": {},
   "source": [
    "15.1 Use multiprocessing to create three separate processes. Make each one wait a random number of seconds between zero and one, print the current time, and then exit."
   ]
  },
  {
   "cell_type": "code",
   "execution_count": 7,
   "id": "054926a9",
   "metadata": {},
   "outputs": [],
   "source": [
    "import multiprocessing\n",
    "from datetime import datetime\n",
    "import time\n",
    "import random"
   ]
  },
  {
   "cell_type": "code",
   "execution_count": 8,
   "id": "43b52915",
   "metadata": {},
   "outputs": [],
   "source": [
    "def print_time():\n",
    "    now = datetime.now()\n",
    "    print(\"Today's date and time is {}\".format(now))\n",
    "    time.sleep(random.random())"
   ]
  },
  {
   "cell_type": "code",
   "execution_count": 9,
   "id": "51cf4848",
   "metadata": {},
   "outputs": [
    {
     "name": "stdout",
     "output_type": "stream",
     "text": [
      "Today's date and time is 2023-12-10 11:01:52.472345\n",
      "Today's date and time is 2023-12-10 11:01:53.100535\n",
      "Today's date and time is 2023-12-10 11:01:53.832244\n",
      "Process Completed\n"
     ]
    }
   ],
   "source": [
    "if __name__ == '__main__':\n",
    "    proc1 = multiprocessing.Process(target=print_time())\n",
    "    proc2 = multiprocessing.Process(target=print_time())\n",
    "    proc3 = multiprocessing.Process(target=print_time())\n",
    "    proc1.start()\n",
    "    proc2.start()\n",
    "    proc3.start()\n",
    "    proc1.join()\n",
    "    proc2.join()\n",
    "    proc3.join()\n",
    "\n",
    "    print('Process Completed')"
   ]
  },
  {
   "cell_type": "code",
   "execution_count": null,
   "id": "5261dc3d",
   "metadata": {},
   "outputs": [],
   "source": []
  }
 ],
 "metadata": {
  "kernelspec": {
   "display_name": "Python 3 (ipykernel)",
   "language": "python",
   "name": "python3"
  },
  "language_info": {
   "codemirror_mode": {
    "name": "ipython",
    "version": 3
   },
   "file_extension": ".py",
   "mimetype": "text/x-python",
   "name": "python",
   "nbconvert_exporter": "python",
   "pygments_lexer": "ipython3",
   "version": "3.9.12"
  }
 },
 "nbformat": 4,
 "nbformat_minor": 5
}
