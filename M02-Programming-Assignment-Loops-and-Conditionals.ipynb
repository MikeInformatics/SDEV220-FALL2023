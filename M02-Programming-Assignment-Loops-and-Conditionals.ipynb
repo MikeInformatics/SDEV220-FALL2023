{
 "cells": [
  {
   "cell_type": "markdown",
   "id": "e7cec621",
   "metadata": {},
   "source": [
    "SDEV220-Software Development - Python\n",
    "M02 Programming Assignment - Loops and Conditionals"
   ]
  },
  {
   "cell_type": "code",
   "execution_count": null,
   "id": "f058379a",
   "metadata": {},
   "outputs": [],
   "source": [
    "# SDEV220-Software Development - Python\n",
    "\n",
    "# Name : M02 Programming Assignment - Loops and Conditionals\n",
    "# Author : M Mekoya \n",
    "# Date : 11-11-2023 \n",
    "# Version: 1 \n",
    "# Purpose: practice and implement learning from Chapter 1 - Chapter 3\n",
    "# "
   ]
  },
  {
   "cell_type": "markdown",
   "id": "5cc7f1f4",
   "metadata": {},
   "source": [
    "Complete the following steps:\n",
    "In your text book, navigate to the end of Chapter 4 and Chapter 6 to the section titled \"Things to Do\"\n",
    "Complete the following sections in your Jupyter Notebook:\n",
    "4.1\n",
    "4.2\n",
    "6.1\n",
    "6.2\n",
    "6.3"
   ]
  },
  {
   "cell_type": "markdown",
   "id": "8c13e2cc",
   "metadata": {},
   "source": [
    "4.1 Choose a number between 1 and 10 and assign it to the variable secret. Then, select another number between 1 and 10 and assign it to the variable guess. Next, write the conditional tests (if, else, and elif) to print the string 'too low' if guess is less than secret, 'too high' if greater than secret, and 'just right' if equal to secret."
   ]
  },
  {
   "cell_type": "code",
   "execution_count": 2,
   "id": "f719ef9b",
   "metadata": {},
   "outputs": [
    {
     "name": "stdout",
     "output_type": "stream",
     "text": [
      "Too High\n"
     ]
    }
   ],
   "source": [
    "secret = 2\n",
    "guess = 7\n",
    "\n",
    "if guess < secret :\n",
    "    print (\"Too low\")\n",
    "elif guess > secret :\n",
    "    print (\"Too High\")\n",
    "elif guess == secret :\n",
    "    print (\"just right\")"
   ]
  },
  {
   "cell_type": "markdown",
   "id": "4660e625",
   "metadata": {},
   "source": [
    "4.2 Assign True or False to the variables small and green. Write some if/else statements to print which of these matches those choices: cherry, pea, watermelon, pumpkin."
   ]
  },
  {
   "cell_type": "code",
   "execution_count": 3,
   "id": "272f7d04",
   "metadata": {},
   "outputs": [
    {
     "name": "stdout",
     "output_type": "stream",
     "text": [
      "pea\n"
     ]
    }
   ],
   "source": [
    "small = True \n",
    "green = True\n",
    "\n",
    "if small and green :\n",
    "    print (\"pea\")\n",
    "elif small and not green :\n",
    "    print (\"cherry\")\n",
    "elif not small and green :\n",
    "    print (\"watermelon\")\n",
    "elif not small and not green :\n",
    "    print (\"pumpkin\")\n",
    "    "
   ]
  },
  {
   "cell_type": "markdown",
   "id": "da59a10a",
   "metadata": {},
   "source": [
    "6.1 Use a for loop to print the values of the list [3, 2, 1, 0]."
   ]
  },
  {
   "cell_type": "code",
   "execution_count": 6,
   "id": "f31ee8f5",
   "metadata": {},
   "outputs": [],
   "source": [
    "numberList = [3,2,1,0]"
   ]
  },
  {
   "cell_type": "code",
   "execution_count": 7,
   "id": "b8ca15d6",
   "metadata": {},
   "outputs": [
    {
     "name": "stdout",
     "output_type": "stream",
     "text": [
      "3\n",
      "2\n",
      "1\n",
      "0\n"
     ]
    }
   ],
   "source": [
    "for i in numberList:\n",
    "    print (i)"
   ]
  },
  {
   "cell_type": "markdown",
   "id": "57505df4",
   "metadata": {},
   "source": [
    "6.2 Assign the value 7 to the variable guess_me, and the value 1 to the variable number. Write a while loop that compares number with guess_me. Print 'too low' if number is less than guess me. If number equals guess_me, print 'found it!' and then exit the loop. If number is greater than guess_me, print 'oops' and then exit the loop. Increment number at the end of the loop."
   ]
  },
  {
   "cell_type": "code",
   "execution_count": 2,
   "id": "a3539a74",
   "metadata": {},
   "outputs": [
    {
     "name": "stdout",
     "output_type": "stream",
     "text": [
      "too low\n",
      "too low\n",
      "too low\n",
      "too low\n"
     ]
    }
   ],
   "source": [
    "guess_me = 7\n",
    "number = 1\n",
    "\n",
    "i = 1\n",
    "    \n",
    "while i < 5 :\n",
    "    if number < guess_me :\n",
    "        print (\"too low\")\n",
    "    elif guess_me == number:\n",
    "        print (\"found it!\")\n",
    "        break\n",
    "    elif number > guess_me:\n",
    "        print (\"oops\")\n",
    "    \n",
    "    i +=1\n",
    "            "
   ]
  },
  {
   "cell_type": "markdown",
   "id": "f5ae7e13",
   "metadata": {},
   "source": [
    "6.3 Assign the value 5 to the variable guess_me. Use a for loop to iterate a variable called number over range(10). If number is less than guess_me, print 'too low'. If it equals guess_me, print found it! and then break out of the for loop. If number is greater than guess_me, print 'oops' and then exit the loop."
   ]
  },
  {
   "cell_type": "code",
   "execution_count": 6,
   "id": "c37766d4",
   "metadata": {},
   "outputs": [
    {
     "name": "stdout",
     "output_type": "stream",
     "text": [
      "too low\n",
      "too low\n",
      "too low\n",
      "too low\n",
      "too low\n",
      "found it!\n"
     ]
    }
   ],
   "source": [
    "guess_me = 5\n",
    "\n",
    "for number in range(10):\n",
    "    if number < guess_me :\n",
    "        print (\"too low\")\n",
    "    elif number == guess_me :\n",
    "        print (\"found it!\")\n",
    "        break\n",
    "    elif number > gues_me :\n",
    "        print (\"oops\")"
   ]
  },
  {
   "cell_type": "code",
   "execution_count": null,
   "id": "9e483231",
   "metadata": {},
   "outputs": [],
   "source": []
  }
 ],
 "metadata": {
  "kernelspec": {
   "display_name": "Python 3 (ipykernel)",
   "language": "python",
   "name": "python3"
  },
  "language_info": {
   "codemirror_mode": {
    "name": "ipython",
    "version": 3
   },
   "file_extension": ".py",
   "mimetype": "text/x-python",
   "name": "python",
   "nbconvert_exporter": "python",
   "pygments_lexer": "ipython3",
   "version": "3.9.12"
  }
 },
 "nbformat": 4,
 "nbformat_minor": 5
}
