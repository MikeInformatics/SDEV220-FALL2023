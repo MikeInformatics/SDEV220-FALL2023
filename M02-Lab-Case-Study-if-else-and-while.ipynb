{
 "cells": [
  {
   "cell_type": "markdown",
   "id": "c55c5551",
   "metadata": {},
   "source": [
    "SDEV220-Software Development - Python\n",
    "\n",
    "Name : M02 Lab - Case Study: if...else and while\n"
   ]
  },
  {
   "cell_type": "code",
   "execution_count": 1,
   "id": "d3df5e7c",
   "metadata": {},
   "outputs": [],
   "source": [
    "# SDEV220-Software Development - Python\n",
    "\n",
    "# Name : M02 Lab - Case Study: if...else and while \n",
    "# Author : M Mekoya \n",
    "# Date : 11-11-2023 \n",
    "# Version: 1 \n",
    "# Purpose: coding if...else and while statements\n",
    "# "
   ]
  },
  {
   "cell_type": "markdown",
   "id": "7522405b",
   "metadata": {},
   "source": [
    "Instructions\n",
    "Complete the following steps:\n",
    "Write a Python app that will accept student names and GPAs and test if the student qualifies for either the Dean's List or the Honor Roll. Your app will:\n",
    "ask for and accept a student's last name.\n",
    "quit processing student records if the last name entered is 'ZZZ'.\n",
    "ask for and accept a student's first name.\n",
    "ask for and accept the student's GPA as a float.\n",
    "test if the student's GPA is 3.5 or greater and, if so, print a message saying that the student has made the Dean's List.\n",
    "test if the student's GPA is 3.25 or greater and, if so, print a message saying that the studnet has made the Honor Roll.\n",
    "Test your app using at least five students.\n",
    "Your header comments need to contain\n",
    "Your name\n",
    "The file name for your app\n",
    "A brief description of what your app will do"
   ]
  },
  {
   "cell_type": "code",
   "execution_count": 2,
   "id": "eab8b37c",
   "metadata": {},
   "outputs": [],
   "source": [
    "firstName = \"\"\n",
    "lastName = \"\"\n",
    "GPA = 4.00\n"
   ]
  },
  {
   "cell_type": "code",
   "execution_count": 3,
   "id": "ef256b8c",
   "metadata": {},
   "outputs": [
    {
     "name": "stdout",
     "output_type": "stream",
     "text": [
      "Enter the student's last name (or 'ZZZ' to quit): Dan\n",
      "Enter the student's first name: Juniour\n",
      "Enter Juniour GPA : 3.75\n",
      "Juniour Dan is on Dean's List.\n",
      "Enter the student's last name (or 'ZZZ' to quit): Bran\n",
      "Enter the student's first name: Jack\n",
      "Enter Jack GPA : 3.22\n",
      "Jack Bran is niether on Dean's List nor on Honor Roll.\n",
      "Enter the student's last name (or 'ZZZ' to quit): Derrick\n",
      "Enter the student's first name: Helen\n",
      "Enter Helen GPA : 2.99\n",
      "Helen Derrick is niether on Dean's List nor on Honor Roll.\n",
      "Enter the student's last name (or 'ZZZ' to quit): ZZZ\n"
     ]
    }
   ],
   "source": [
    "while True:\n",
    "    lastName = input (\"Enter the student's last name (or 'ZZZ' to quit): \")\n",
    "    if lastName == \"ZZZ\":\n",
    "        break\n",
    "    firstName = input (\"Enter the student's first name: \")\n",
    "    GPA = float (input (\"Enter \"+ firstName + \" GPA : \"))\n",
    "    \n",
    "    if GPA >= 3.5 :\n",
    "        print (f\"{firstName} {lastName} is on Dean's List.\")\n",
    "    elif GPA >= 3.25 :\n",
    "        print (f\"{firstName} {lastName} is on Honor Roll.\")\n",
    "    else:\n",
    "        print (f\"{firstName} {lastName} is niether on Dean's List nor on Honor Roll.\")"
   ]
  },
  {
   "cell_type": "code",
   "execution_count": null,
   "id": "7eb3d4ed",
   "metadata": {},
   "outputs": [],
   "source": []
  },
  {
   "cell_type": "code",
   "execution_count": null,
   "id": "7601ba4b",
   "metadata": {},
   "outputs": [],
   "source": []
  },
  {
   "cell_type": "code",
   "execution_count": null,
   "id": "c938ceb7",
   "metadata": {},
   "outputs": [],
   "source": []
  },
  {
   "cell_type": "code",
   "execution_count": null,
   "id": "0175bae4",
   "metadata": {},
   "outputs": [],
   "source": []
  },
  {
   "cell_type": "code",
   "execution_count": null,
   "id": "f7978ef7",
   "metadata": {},
   "outputs": [],
   "source": []
  }
 ],
 "metadata": {
  "kernelspec": {
   "display_name": "Python 3 (ipykernel)",
   "language": "python",
   "name": "python3"
  },
  "language_info": {
   "codemirror_mode": {
    "name": "ipython",
    "version": 3
   },
   "file_extension": ".py",
   "mimetype": "text/x-python",
   "name": "python",
   "nbconvert_exporter": "python",
   "pygments_lexer": "ipython3",
   "version": "3.9.12"
  }
 },
 "nbformat": 4,
 "nbformat_minor": 5
}
