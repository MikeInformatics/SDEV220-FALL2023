{
 "cells": [
  {
   "cell_type": "markdown",
   "id": "aadcb4f2",
   "metadata": {},
   "source": []
  },
  {
   "cell_type": "code",
   "execution_count": null,
   "id": "a2ecda2d",
   "metadata": {},
   "outputs": [],
   "source": [
    "# SDEV220-Software Development - Python\n",
    "# Name : M04 Programming Assignment - Modules and Databases\n",
    "# Author : M Mekoya \n",
    "# Date : 11-24-2023 \n",
    "# Version: 1 \n",
    "# Purpose: The purpose of this assignment is to practice and implement learning from Chapter 11 and Chapter 16\n",
    "# "
   ]
  },
  {
   "cell_type": "markdown",
   "id": "39a66206",
   "metadata": {},
   "source": [
    "n your text book, navigate to the end of Chapter 11 and 16 to the section titled \"Things to Do\"\n",
    "Complete the following sections in your Jupyter Notebook:\n",
    "11.1\n",
    "11.2\n",
    "16.8"
   ]
  },
  {
   "cell_type": "markdown",
   "id": "e1958cd9",
   "metadata": {},
   "source": [
    "11.1 Create a file called zoo.py. In it, define a function called hours() that prints the string 'Open 9-5 daily'. Then, use the interactive interpreter to import the zoo module and call its hours() function."
   ]
  },
  {
   "cell_type": "code",
   "execution_count": 2,
   "id": "68183cd7",
   "metadata": {},
   "outputs": [],
   "source": [
    "def hours ():\n",
    "    print (\"Open 9 - 5 Daily \")\n",
    "    return "
   ]
  },
  {
   "cell_type": "code",
   "execution_count": 3,
   "id": "186715c0",
   "metadata": {},
   "outputs": [
    {
     "name": "stdout",
     "output_type": "stream",
     "text": [
      "Open 9 - 5 Daily \n"
     ]
    }
   ],
   "source": [
    "hours ()"
   ]
  },
  {
   "cell_type": "markdown",
   "id": "53d9c10f",
   "metadata": {},
   "source": [
    "11.2 In the interactive interpreter, import the zoo module as menagerie and call its hours() function."
   ]
  },
  {
   "cell_type": "code",
   "execution_count": 4,
   "id": "59e5cf9e",
   "metadata": {},
   "outputs": [
    {
     "name": "stdout",
     "output_type": "stream",
     "text": [
      "Open 9 - 5 Daily \n"
     ]
    }
   ],
   "source": [
    "menagerie = hours ()"
   ]
  },
  {
   "cell_type": "markdown",
   "id": "f96ce6c4",
   "metadata": {},
   "source": [
    "16.8 Use the sqlalchemy module to connect to the sqlite3 database books.db that you just made in exercise 16.4. As in 16.6, select and print the title column from the book table in alphabetical order."
   ]
  },
  {
   "cell_type": "markdown",
   "id": "a69db5b5",
   "metadata": {},
   "source": [
    "Importing flask"
   ]
  },
  {
   "cell_type": "code",
   "execution_count": null,
   "id": "f26578ad",
   "metadata": {},
   "outputs": [],
   "source": [
    "from flask import Flask, request\n",
    "from flask_sqlalchemy import SQLAlchemy\n",
    "app = Flask (__name__)"
   ]
  },
  {
   "cell_type": "markdown",
   "id": "7f1a82df",
   "metadata": {},
   "source": [
    "Creating a function to print Books in the database"
   ]
  },
  {
   "cell_type": "code",
   "execution_count": null,
   "id": "ac7a5010",
   "metadata": {},
   "outputs": [],
   "source": [
    "@app.route ('/Books')\n",
    "def get_books ():\n",
    "    Books = Books.query.all()\n",
    "    output = []\n",
    "    \n",
    "    for book in Books:\n",
    "        books_data = {'Name ' : Books.book_name, 'Author' : Books.author,\n",
    "                     'Publisher ' : Books.publisher}\n",
    "        output.append (Books_data)\n",
    "        \n",
    "    \n",
    "    return {\"Books\" : output}"
   ]
  }
 ],
 "metadata": {
  "kernelspec": {
   "display_name": "Python 3 (ipykernel)",
   "language": "python",
   "name": "python3"
  },
  "language_info": {
   "codemirror_mode": {
    "name": "ipython",
    "version": 3
   },
   "file_extension": ".py",
   "mimetype": "text/x-python",
   "name": "python",
   "nbconvert_exporter": "python",
   "pygments_lexer": "ipython3",
   "version": "3.9.12"
  }
 },
 "nbformat": 4,
 "nbformat_minor": 5
}
