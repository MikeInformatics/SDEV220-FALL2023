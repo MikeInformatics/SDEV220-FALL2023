{
 "cells": [
  {
   "cell_type": "code",
   "execution_count": null,
   "id": "7a897dab",
   "metadata": {},
   "outputs": [],
   "source": [
    "# SDEV220-Software Development - Python\n",
    "\n",
    "# Name : M03 Tutorial - Functional vs OOP Programming - Binary Search\n",
    "\n",
    "# Author : M Mekoya \n",
    "# Date : 11-24-2023 \n",
    "# Version: 1 \n",
    "# Purpose:  examine the natures and code of OOP vs Functional styles of programming"
   ]
  },
  {
   "cell_type": "markdown",
   "id": "f17284eb",
   "metadata": {},
   "source": [
    "Functional Programming:\n",
    " Binary Search\n",
    " Code adopted from geeksforgeeks.org for this SDEV 220 Excercise "
   ]
  },
  {
   "cell_type": "code",
   "execution_count": null,
   "id": "74f0eaa5",
   "metadata": {},
   "outputs": [],
   "source": [
    "def binarySearch(arr, l, r, x):\n",
    "\n",
    "    # Check base case\n",
    "    if r >= l:\n",
    "\n",
    "        mid = l + (r - l) // 2\n",
    "\n",
    "        # If element is present at the middle itself\n",
    "        if arr[mid] == x:\n",
    "            return mid\n",
    "\n",
    "        # If element is smaller than mid, then it\n",
    "        # can only be present in left subarray\n",
    "        elif arr[mid] > x:\n",
    "            return binarySearch(arr, l, mid-1, x)\n",
    "\n",
    "        # Else the element can only be present\n",
    "        # in right subarray\n",
    "        else:\n",
    "            return binarySearch(arr, mid + 1, r, x)\n",
    "\n",
    "    else:\n",
    "        # Element is not present in the array\n",
    "        return -1"
   ]
  },
  {
   "cell_type": "code",
   "execution_count": null,
   "id": "4c74c204",
   "metadata": {},
   "outputs": [],
   "source": [
    "# Driver Code\n",
    "arr = [2, 3, 4, 10, 40]\n",
    "x = 10\n",
    "\n",
    "# Function call\n",
    "result = binarySearch(arr, 0, len(arr)-1, x)\n",
    "\n",
    "if result != -1:\n",
    "    print(\"Element is present at index % d\" % result)\n",
    "else:\n",
    "    print(\"Element is not present in array\")"
   ]
  }
 ],
 "metadata": {
  "kernelspec": {
   "display_name": "Python 3 (ipykernel)",
   "language": "python",
   "name": "python3"
  },
  "language_info": {
   "codemirror_mode": {
    "name": "ipython",
    "version": 3
   },
   "file_extension": ".py",
   "mimetype": "text/x-python",
   "name": "python",
   "nbconvert_exporter": "python",
   "pygments_lexer": "ipython3",
   "version": "3.9.12"
  }
 },
 "nbformat": 4,
 "nbformat_minor": 5
}
