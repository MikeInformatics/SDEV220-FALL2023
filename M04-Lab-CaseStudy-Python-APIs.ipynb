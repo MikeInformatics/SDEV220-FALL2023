{
 "cells": [
  {
   "cell_type": "markdown",
   "id": "db6a9dae",
   "metadata": {},
   "source": []
  },
  {
   "cell_type": "code",
   "execution_count": null,
   "id": "59faa802",
   "metadata": {},
   "outputs": [],
   "source": [
    "# SDEV220-Software Development - Python\n",
    "\n",
    "# Name : M04 Lab - Case Study: Python APIs\n",
    "# Author : M Mekoya \n",
    "# Date : 11-24-2023 \n",
    "# Version: 1 \n",
    "# Purpose: Python APIs\n",
    "# "
   ]
  },
  {
   "cell_type": "markdown",
   "id": "f7520730",
   "metadata": {},
   "source": [
    "Navigate to the following URL, and watch the video on APIs and how to develop them in Python.  Complete the same steps and following along with the tutorial using VSCode:\n",
    "\n",
    "REST API Crash CourseLinks to an external site.\n",
    "\n",
    "Complete the following steps:\n",
    "After watching the video, create a CRUD API for a Book instead of a Drink in the video example above.  The Book model should have the following parameters:\n",
    "id\n",
    "book_name\n",
    "author\n",
    "publisher"
   ]
  },
  {
   "cell_type": "code",
   "execution_count": 2,
   "id": "2bcaae04",
   "metadata": {},
   "outputs": [],
   "source": [
    "from flask import Flask, request\n",
    "from flask_sqlalchemy import SQLAlchemy\n",
    "app = Flask (__name__)\n"
   ]
  },
  {
   "cell_type": "code",
   "execution_count": null,
   "id": "f1f5a31e",
   "metadata": {},
   "outputs": [],
   "source": [
    "app.config ['SQLALCHEMY_DATABASE_URI'] = 'sqlite:///data.db'"
   ]
  },
  {
   "cell_type": "markdown",
   "id": "2bf15f1b",
   "metadata": {},
   "source": [
    "Creating Book Class with book_name, author and publisher"
   ]
  },
  {
   "cell_type": "code",
   "execution_count": null,
   "id": "56bb1d2b",
   "metadata": {},
   "outputs": [],
   "source": [
    "class Books (db.Model):\n",
    "    id = db.Column(db.Integer, primary_key = True)\n",
    "    book_name = db.Column (db.String(80), unique = True, nullable = False)\n",
    "    author = db.Column(db.String(120))\n",
    "    publisher = db.Column(db.String(120))\n",
    "    \n",
    "    def __repr__(self):\n",
    "        return f\"{self.book_name} - {self.author} - {self.publisher}\""
   ]
  },
  {
   "cell_type": "code",
   "execution_count": null,
   "id": "18c5b747",
   "metadata": {},
   "outputs": [],
   "source": [
    "@app.route ('/')\n",
    "def index ():\n",
    "    return 'Hello!'"
   ]
  },
  {
   "cell_type": "markdown",
   "id": "26245e94",
   "metadata": {},
   "source": [
    "Getting Books"
   ]
  },
  {
   "cell_type": "code",
   "execution_count": null,
   "id": "b2b256c0",
   "metadata": {},
   "outputs": [],
   "source": [
    "@app.route ('/Books')\n",
    "def get_books ():\n",
    "    Books = Books.query.all()\n",
    "    output = []\n",
    "    \n",
    "    for book in Books:\n",
    "        books_data = {'Name ' : Books.book_name, 'Author' : Books.author,\n",
    "                     'Publisher ' : Books.publisher}\n",
    "        output.append (Books_data)\n",
    "        \n",
    "    \n",
    "    return {\"Books\" : output}"
   ]
  },
  {
   "cell_type": "code",
   "execution_count": null,
   "id": "175f8326",
   "metadata": {},
   "outputs": [],
   "source": [
    "@app.route ('/Books/<id>')\n",
    "def get_book(id):\n",
    "    book = Books.query.get_or_404(id)\n",
    "    return jsonify ({\"name\" : Books.name, \"Author\" : Books.author, \"Publisher \" : Books.publisher})\n"
   ]
  },
  {
   "cell_type": "markdown",
   "id": "3893b96d",
   "metadata": {},
   "source": [
    "Adding Book To the Database"
   ]
  },
  {
   "cell_type": "code",
   "execution_count": null,
   "id": "05c5617b",
   "metadata": {},
   "outputs": [],
   "source": [
    "@app.route ('/Books', methods = ['POST'])\n",
    "def add_book ():\n",
    "    books = Books (book_name = request.json ['name'],\n",
    "                  author = request.json ['author'],\n",
    "                  publisher = request.json ['publisher'])\n",
    "    de.session.add(Books)\n",
    "    db.session.commit ()\n",
    "    return {'id' : Books.id}\n"
   ]
  },
  {
   "cell_type": "markdown",
   "id": "3010e0ad",
   "metadata": {},
   "source": [
    "Deleting Book from the Database"
   ]
  },
  {
   "cell_type": "code",
   "execution_count": null,
   "id": "c699005e",
   "metadata": {},
   "outputs": [],
   "source": [
    "@app.route ('/Books/<id>', methods = [DELETE])\n",
    "def delete_book (id):\n",
    "    book = Books.query.get (id)\n",
    "    if book is None:\n",
    "        return {\"Error: Book Does not Exist!!!\"}\n",
    "    db.session.delete (Books)\n",
    "    db.session.commite ()\n",
    "    return {\"Message\" : \"Successes!\"}\n",
    "    "
   ]
  }
 ],
 "metadata": {
  "kernelspec": {
   "display_name": "Python 3 (ipykernel)",
   "language": "python",
   "name": "python3"
  },
  "language_info": {
   "codemirror_mode": {
    "name": "ipython",
    "version": 3
   },
   "file_extension": ".py",
   "mimetype": "text/x-python",
   "name": "python",
   "nbconvert_exporter": "python",
   "pygments_lexer": "ipython3",
   "version": "3.9.12"
  }
 },
 "nbformat": 4,
 "nbformat_minor": 5
}
