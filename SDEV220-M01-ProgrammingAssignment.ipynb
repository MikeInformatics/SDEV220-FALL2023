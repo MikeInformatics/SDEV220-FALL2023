{
 "cells": [
  {
   "cell_type": "markdown",
   "id": "92818eb1",
   "metadata": {},
   "source": [
    "SDEV220-Software Development - Python \n",
    "\n",
    "Name   :  M01 Programming Assignment \n",
    "Author :  M Mekoya\n",
    "Date   :  11-06-2023\n",
    "Version:  1\n",
    "Purpose:  Complete sections 3.1 through 3.6 utilizing your Jupyter Notebook\n",
    "Make sure both answer the prompts(if given) and complete the Python interactive interpreter piece for each question\n",
    "You can do this in Jupyter notebooks by inserting code to complete the interactive interpreter piece and adding markdown to answer the prompts (if given) for each question"
   ]
  },
  {
   "cell_type": "markdown",
   "id": "5767bc38",
   "metadata": {},
   "source": [
    "3.1 How many seconds are in an hour? Use the interactive interpreter as a calculator and multiply the number of seconds in a minute (60) by the number of minutes in an hour (also 60)."
   ]
  },
  {
   "cell_type": "code",
   "execution_count": 3,
   "id": "8095c122",
   "metadata": {},
   "outputs": [
    {
     "name": "stdout",
     "output_type": "stream",
     "text": [
      "3600\n"
     ]
    }
   ],
   "source": [
    "secondsInMinute = 60\n",
    "minutesInHour   = 60\n",
    "secondsInHour = secondsInMinute * minutesInHour\n",
    "print (secondsInHour)"
   ]
  },
  {
   "cell_type": "markdown",
   "id": "d24bb924",
   "metadata": {},
   "source": [
    "3.2 Assign the result from the previous task (seconds in an hour) to a variable called seconds_per_hour."
   ]
  },
  {
   "cell_type": "code",
   "execution_count": 4,
   "id": "4458abcc",
   "metadata": {},
   "outputs": [],
   "source": [
    "seconds_per_hour = secondsInHour"
   ]
  },
  {
   "cell_type": "markdown",
   "id": "81aa592d",
   "metadata": {},
   "source": [
    "3.3 How many seconds are in a day? Use your seconds_per_hour variable."
   ]
  },
  {
   "cell_type": "code",
   "execution_count": 5,
   "id": "4e077612",
   "metadata": {},
   "outputs": [
    {
     "name": "stdout",
     "output_type": "stream",
     "text": [
      "86400\n"
     ]
    }
   ],
   "source": [
    "hours_per_day = 24\n",
    "seconds_per_day = seconds_per_hour * hours_per_day\n",
    "print (seconds_per_day)"
   ]
  },
  {
   "cell_type": "markdown",
   "id": "0f4515c9",
   "metadata": {},
   "source": [
    "3.4 Calculate seconds per day again, but this time save the result in a variable called seconds_per_day."
   ]
  },
  {
   "cell_type": "code",
   "execution_count": 6,
   "id": "10572f10",
   "metadata": {},
   "outputs": [],
   "source": [
    "seconds_per_day = seconds_per_hour * hours_per_day"
   ]
  },
  {
   "cell_type": "markdown",
   "id": "b9ae5808",
   "metadata": {},
   "source": [
    "3.5 Divide seconds_per_day by seconds_per_hour. Use floating-point (/) division."
   ]
  },
  {
   "cell_type": "code",
   "execution_count": 7,
   "id": "03a193ec",
   "metadata": {},
   "outputs": [
    {
     "name": "stdout",
     "output_type": "stream",
     "text": [
      "24.0\n"
     ]
    }
   ],
   "source": [
    "hourInDay = seconds_per_day / seconds_per_hour\n",
    "print (hourInDay)"
   ]
  },
  {
   "cell_type": "markdown",
   "id": "96fac442",
   "metadata": {},
   "source": [
    "3.6 Divide seconds_per_day by seconds_per_hour, using integer (//) division. Did this number agree with the floating-point value from the previous question, aside from the final .0?"
   ]
  },
  {
   "cell_type": "code",
   "execution_count": 8,
   "id": "342838a7",
   "metadata": {},
   "outputs": [
    {
     "name": "stdout",
     "output_type": "stream",
     "text": [
      "24\n"
     ]
    }
   ],
   "source": [
    "hourInDayFloat = seconds_per_day // seconds_per_hour\n",
    "print (hourInDayFloat)"
   ]
  },
  {
   "cell_type": "code",
   "execution_count": null,
   "id": "a6ce6f28",
   "metadata": {},
   "outputs": [],
   "source": []
  }
 ],
 "metadata": {
  "kernelspec": {
   "display_name": "Python 3 (ipykernel)",
   "language": "python",
   "name": "python3"
  },
  "language_info": {
   "codemirror_mode": {
    "name": "ipython",
    "version": 3
   },
   "file_extension": ".py",
   "mimetype": "text/x-python",
   "name": "python",
   "nbconvert_exporter": "python",
   "pygments_lexer": "ipython3",
   "version": "3.9.12"
  }
 },
 "nbformat": 4,
 "nbformat_minor": 5
}
