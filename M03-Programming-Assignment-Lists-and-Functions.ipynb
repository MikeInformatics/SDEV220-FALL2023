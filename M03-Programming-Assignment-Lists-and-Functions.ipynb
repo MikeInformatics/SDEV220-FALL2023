{
 "cells": [
  {
   "cell_type": "markdown",
   "id": "0d97bdec",
   "metadata": {},
   "source": [
    "SDEV220-Software Development - Python\n",
    "M03 Programming Assignment - Lists and Functions"
   ]
  },
  {
   "cell_type": "code",
   "execution_count": null,
   "id": "7708a845",
   "metadata": {},
   "outputs": [],
   "source": [
    "# SDEV220-Software Development - Python\n",
    "\n",
    "# Name : M03 Programming Assignment - Lists and Functions\n",
    "# Author : M Mekoya \n",
    "# Date : 11-11-2023 \n",
    "# Version: 1 \n",
    "# Purpose: practice and implement learning from Chapter 7 - Chapter 9\n",
    "# "
   ]
  },
  {
   "cell_type": "markdown",
   "id": "9423e608",
   "metadata": {},
   "source": [
    "Complete the following steps:\n",
    "In your text book, navigate to the end of Chapter 7 to the section titled \"Things to Do\"\n",
    "Complete the following sections in your Jupyter Notebook:\n",
    "7.4\n",
    "7.5\n",
    "7.6\n",
    "7.7\n",
    "9.1\n",
    "9.2"
   ]
  },
  {
   "cell_type": "markdown",
   "id": "8d2e20f3",
   "metadata": {},
   "source": [
    "7.4 Make a list called things with these three strings as elements: \"mozzarella\", \"cinderella\", \"salmonella\"."
   ]
  },
  {
   "cell_type": "code",
   "execution_count": 6,
   "id": "26dcfbc8",
   "metadata": {},
   "outputs": [],
   "source": [
    "things = [\"mozzarella\", \"cinderella\", \"salmonella\"]\n"
   ]
  },
  {
   "cell_type": "markdown",
   "id": "a937e476",
   "metadata": {},
   "source": [
    "7.5 Capitalize the element in things that refers to a person and then print the list. Did it change the element in the list?"
   ]
  },
  {
   "cell_type": "code",
   "execution_count": 7,
   "id": "60c0eb82",
   "metadata": {},
   "outputs": [
    {
     "name": "stdout",
     "output_type": "stream",
     "text": [
      "Cinderella\n"
     ]
    }
   ],
   "source": [
    "person = things [1]\n",
    "print(person.capitalize())"
   ]
  },
  {
   "cell_type": "markdown",
   "id": "ed86da52",
   "metadata": {},
   "source": [
    "7.6 Make the cheesy element of things all uppercase and then print the list."
   ]
  },
  {
   "cell_type": "code",
   "execution_count": 12,
   "id": "d0022971",
   "metadata": {},
   "outputs": [
    {
     "name": "stdout",
     "output_type": "stream",
     "text": [
      "MOZZARELLA\n"
     ]
    }
   ],
   "source": [
    "cheesy = things [0]\n",
    "print (cheesy.upper())"
   ]
  },
  {
   "cell_type": "markdown",
   "id": "bb40fa85",
   "metadata": {},
   "source": [
    "7.7 Delete the disease element from things, collect your Nobel Prize, and print the list."
   ]
  },
  {
   "cell_type": "code",
   "execution_count": 15,
   "id": "9eb056e4",
   "metadata": {},
   "outputs": [
    {
     "name": "stdout",
     "output_type": "stream",
     "text": [
      "['mozzarella', 'cinderella']\n"
     ]
    }
   ],
   "source": [
    "things.remove(\"salmonella\")\n",
    "print (things)"
   ]
  },
  {
   "cell_type": "markdown",
   "id": "afda063a",
   "metadata": {},
   "source": [
    "9.1 Define a function called good() that returns the following list: ['Harry', 'Ron', 'Hermione']."
   ]
  },
  {
   "cell_type": "code",
   "execution_count": 16,
   "id": "c1187a5f",
   "metadata": {},
   "outputs": [],
   "source": [
    "def good () :\n",
    "    nameList = ['Harry', 'Ron', 'Hermione']\n",
    "    return nameList"
   ]
  },
  {
   "cell_type": "markdown",
   "id": "09daa3ca",
   "metadata": {},
   "source": [
    "9.2 Define a generator function called get_odds() that returns the odd numbers from range(10). Use a for loop to find and print the third value returned."
   ]
  },
  {
   "cell_type": "code",
   "execution_count": 31,
   "id": "baf56f31",
   "metadata": {},
   "outputs": [
    {
     "name": "stdout",
     "output_type": "stream",
     "text": [
      "is odd number\n",
      "is odd number\n",
      "is odd number\n",
      "is odd number\n",
      "is odd number\n",
      "is odd number\n",
      "is odd number\n",
      "is odd number\n",
      "is odd number\n",
      "is odd number\n"
     ]
    }
   ],
   "source": [
    "def get_odds (i) :\n",
    "        if (i % 2) != 0:\n",
    "            print (\"is odd number\")\n",
    "        else :\n",
    "            print (\"is not odd number\")\n",
    "\n",
    "        \n",
    "for i in range (10) :\n",
    "    get_odds (3)"
   ]
  },
  {
   "cell_type": "code",
   "execution_count": null,
   "id": "ada5a597",
   "metadata": {},
   "outputs": [],
   "source": []
  }
 ],
 "metadata": {
  "kernelspec": {
   "display_name": "Python 3 (ipykernel)",
   "language": "python",
   "name": "python3"
  },
  "language_info": {
   "codemirror_mode": {
    "name": "ipython",
    "version": 3
   },
   "file_extension": ".py",
   "mimetype": "text/x-python",
   "name": "python",
   "nbconvert_exporter": "python",
   "pygments_lexer": "ipython3",
   "version": "3.9.12"
  }
 },
 "nbformat": 4,
 "nbformat_minor": 5
}
