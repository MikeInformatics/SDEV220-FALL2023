{
 "cells": [
  {
   "cell_type": "code",
   "execution_count": null,
   "id": "e220201b",
   "metadata": {},
   "outputs": [],
   "source": [
    "# SDEV220-Software Development - Python\n",
    "\n",
    "# Name : M03 Tutorial - Functional vs OOP Programming - Sort\n",
    "\n",
    "# Author : M Mekoya \n",
    "# Date : 11-24-2023 \n",
    "# Version: 1 \n",
    "# Purpose:  examine the natures and code of OOP vs Functional styles of programming"
   ]
  },
  {
   "cell_type": "markdown",
   "id": "fac51ef5",
   "metadata": {},
   "source": [
    "OOP Programming:\n",
    " Sort an Array of 0s, 1s, and 2s\n",
    " Code adopted from geeksforgeeks.org for this SDEV 220 Excercise "
   ]
  },
  {
   "cell_type": "code",
   "execution_count": 1,
   "id": "c25c127f",
   "metadata": {},
   "outputs": [],
   "source": [
    "class Solution:\n",
    "    def sort220(self,arr,n):\n",
    "        # code here\n",
    "        low=0\n",
    "        high=n-1\n",
    "        mid=0\n",
    "        \n",
    "        #iterating until mid pointer is less than or equal to high.\n",
    "        while mid<=high:\n",
    "            \n",
    "            #if element at mid is 0, swap with element at low and move both pointers.\n",
    "            if arr[mid]==0:\n",
    "                arr[mid] , arr[low] = arr[low] , arr[mid]\n",
    "                mid+=1\n",
    "                low+=1\n",
    "                \n",
    "            #if element at mid is 1, move mid pointer.\n",
    "            elif arr[mid]==1:\n",
    "                mid+=1\n",
    "                \n",
    "            #if element at mid is 2, swap with element at high and move high pointer.\n",
    "            else:\n",
    "                arr[mid] , arr[high] = arr[high] , arr[mid]\n",
    "                high-=1"
   ]
  },
  {
   "cell_type": "code",
   "execution_count": null,
   "id": "90d3308a",
   "metadata": {},
   "outputs": [],
   "source": [
    "# Driver Code\n",
    "if __name__ == '__main__':\n",
    "    t = int (input())\n",
    "    for _ in range (t):\n",
    "        n = int (input())\n",
    "        arr = [int(x) for x in input().strip().split()]\n",
    "        ob = Solution()\n",
    "        ob.sort220 (arr, n)\n",
    "        for i in arr:\n",
    "            print (i, end = ' ')\n",
    "        print ()"
   ]
  }
 ],
 "metadata": {
  "kernelspec": {
   "display_name": "Python 3 (ipykernel)",
   "language": "python",
   "name": "python3"
  },
  "language_info": {
   "codemirror_mode": {
    "name": "ipython",
    "version": 3
   },
   "file_extension": ".py",
   "mimetype": "text/x-python",
   "name": "python",
   "nbconvert_exporter": "python",
   "pygments_lexer": "ipython3",
   "version": "3.9.12"
  }
 },
 "nbformat": 4,
 "nbformat_minor": 5
}
